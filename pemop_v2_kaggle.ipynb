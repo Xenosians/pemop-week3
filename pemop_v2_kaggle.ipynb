{
  "nbformat": 4,
  "nbformat_minor": 0,
  "metadata": {
    "colab": {
      "private_outputs": true,
      "provenance": [],
      "authorship_tag": "ABX9TyP55in43RiYrCvN/WSjIneb",
      "include_colab_link": true
    },
    "kernelspec": {
      "name": "python3",
      "display_name": "Python 3"
    },
    "language_info": {
      "name": "python"
    }
  },
  "cells": [
    {
      "cell_type": "markdown",
      "metadata": {
        "id": "view-in-github",
        "colab_type": "text"
      },
      "source": [
        "<a href=\"https://colab.research.google.com/github/Xenosians/pemop-week3/blob/main/pemop_v2_kaggle.ipynb\" target=\"_parent\"><img src=\"https://colab.research.google.com/assets/colab-badge.svg\" alt=\"Open In Colab\"/></a>"
      ]
    },
    {
      "cell_type": "code",
      "execution_count": null,
      "metadata": {
        "id": "5Z4xIVuMSmQ1"
      },
      "outputs": [],
      "source": [
        "import pandas as pd\n",
        "import numpy as np\n",
        "\n",
        "# Load your data into a DataFrame (replace 'your_data.csv' with your actual file path)\n",
        "data = pd.read_csv('c.csv', header=None)\n",
        "\n",
        "# Assign column names to the DataFrame\n",
        "data.columns = ['y1', 'y2', 'z1', 'z2', 'z3', 'z4', 'z5']\n",
        "\n",
        "# Define your response (Y) and predictor (X) variables\n",
        "Y = data[['y1', 'y2']]\n",
        "X = data[['z1', 'z2', 'z3', 'z4', 'z5']]\n",
        "\n",
        "# Standardize the predictors (z1, z2, z3, z4, z5)\n",
        "mean_z = X.mean()\n",
        "std_z = X.std()\n",
        "\n",
        "X = (X - mean_z) / std_z\n",
        "\n",
        "# Standardize the response variables (y1, y2)\n",
        "mean_y = Y.mean()\n",
        "std_y = Y.std()\n",
        "\n",
        "Y = (Y - mean_y) / std_y\n",
        "\n",
        "# Add a column of ones for the intercept term\n",
        "X.insert(0, 'intercept', 1)\n",
        "\n",
        "# Perform multivariate linear regression\n",
        "XT = X.transpose()\n",
        "XTX = XT.dot(X)\n",
        "XTY = XT.dot(Y)\n",
        "invXTX = np.linalg.inv(XTX)\n",
        "Beta = invXTX.dot(XTY)\n",
        "\n",
        "# Print standardized Beta values for the full model without scientific notation\n",
        "with np.printoptions(suppress=True):\n",
        "    print(\"Full Model Standardized Beta Values:\")\n",
        "    print(Beta)\n",
        "\n",
        "# Residuals for the full model\n",
        "y_pred = X.dot(Beta)\n",
        "residuals = Y - y_pred\n",
        "\n",
        "# Perform MANOVA\n",
        "WilksLambda = np.linalg.det(Y.T.dot(Y) - Beta.T.dot(XT).dot(Y)) / np.linalg.det(Y.T.dot(Y))\n",
        "F = ((1 - WilksLambda) / WilksLambda) * ((Y.shape[0] - Y.shape[1] - 1) / Y.shape[1])\n",
        "critical_value = 2.50  # Adjust this value based on your desired significance level\n",
        "\n",
        "# Print MANOVA results with standardized data without scientific notation\n",
        "with np.printoptions(suppress=True):\n",
        "    print(\"\\nMANOVA Results with Standardized Data:\")\n",
        "    print(\"Wilks' Lambda:\", WilksLambda)\n",
        "    print(\"F-statistic:\", F)\n",
        "    print(\"Critical Value:\", critical_value)\n",
        "\n",
        "# If needed, you can perform further analysis or reduce the model based on the results"
      ]
    }
  ]
}