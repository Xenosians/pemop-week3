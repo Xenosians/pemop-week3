{
  "nbformat": 4,
  "nbformat_minor": 0,
  "metadata": {
    "colab": {
      "private_outputs": true,
      "provenance": [],
      "authorship_tag": "ABX9TyMzM5TwO9pa46KgSjGr5ZA9",
      "include_colab_link": true
    },
    "kernelspec": {
      "name": "python3",
      "display_name": "Python 3"
    },
    "language_info": {
      "name": "python"
    }
  },
  "cells": [
    {
      "cell_type": "markdown",
      "metadata": {
        "id": "view-in-github",
        "colab_type": "text"
      },
      "source": [
        "<a href=\"https://colab.research.google.com/github/Xenosians/pemop-week3/blob/main/pemop_v2_kaggle.ipynb\" target=\"_parent\"><img src=\"https://colab.research.google.com/assets/colab-badge.svg\" alt=\"Open In Colab\"/></a>"
      ]
    },
    {
      "cell_type": "code",
      "execution_count": null,
      "metadata": {
        "id": "5Z4xIVuMSmQ1"
      },
      "outputs": [],
      "source": [
        "import pandas as pd\n",
        "import numpy as np\n",
        "\n",
        "data = pd.read_csv('c.csv', header=None)\n",
        "data.columns = ['y1', 'y2', 'z1', 'z2', 'z3', 'z4', 'z5']\n",
        "\n",
        "Y = data[['y1', 'y2']]\n",
        "X = data[['z1', 'z2', 'z3', 'z4', 'z5']]\n",
        "\n",
        "mean_z = X.mean()\n",
        "std_z = X.std()\n",
        "\n",
        "X = (X - mean_z) / std_z\n",
        "\n",
        "mean_y = Y.mean()\n",
        "std_y = Y.std()\n",
        "\n",
        "Y = (Y - mean_y) / std_y\n",
        "\n",
        "X.insert(0, 'intercept', 1)\n",
        "\n",
        "XT = X.transpose()\n",
        "XTX = XT.dot(X)\n",
        "XTY = XT.dot(Y)\n",
        "invXTX = np.linalg.inv(XTX)\n",
        "Beta = invXTX.dot(XTY)\n",
        "\n",
        "with np.printoptions(suppress=True):\n",
        "    print(\"Full Model Standardized Beta Values:\")\n",
        "    print(Beta)\n",
        "\n",
        "y_pred = X.dot(Beta)\n",
        "residuals = Y - y_pred\n",
        "\n",
        "WilksLambda = np.linalg.det(Y.T.dot(Y) - Beta.T.dot(XT).dot(Y)) / np.linalg.det(Y.T.dot(Y))\n",
        "F = ((1 - WilksLambda) / WilksLambda) * ((Y.shape[0] - Y.shape[1] - 1) / Y.shape[1])\n",
        "critical_value = 2.50\n",
        "\n",
        "with np.printoptions(suppress=True):\n",
        "    print(\"\\nMANOVA Results with Standardized Data:\")\n",
        "    print(\"Wilks' Lambda:\", WilksLambda)\n",
        "    print(\"F-statistic:\", F)\n",
        "    print(\"Critical Value:\", critical_value)"
      ]
    }
  ]
}