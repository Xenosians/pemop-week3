{
 "cells": [
  {
   "cell_type": "code",
   "execution_count": 1,
   "id": "070b7201",
   "metadata": {},
   "outputs": [],
   "source": [
    "import pandas as pd\n",
    "import numpy as np\n",
    "import matplotlib.pyplot as plt\n",
    "import seaborn as sn"
   ]
  },
  {
   "cell_type": "code",
   "execution_count": 2,
   "id": "9314091f",
   "metadata": {},
   "outputs": [
    {
     "data": {
      "text/html": [
       "<div>\n",
       "<style scoped>\n",
       "    .dataframe tbody tr th:only-of-type {\n",
       "        vertical-align: middle;\n",
       "    }\n",
       "\n",
       "    .dataframe tbody tr th {\n",
       "        vertical-align: top;\n",
       "    }\n",
       "\n",
       "    .dataframe thead th {\n",
       "        text-align: right;\n",
       "    }\n",
       "</style>\n",
       "<table border=\"1\" class=\"dataframe\">\n",
       "  <thead>\n",
       "    <tr style=\"text-align: right;\">\n",
       "      <th></th>\n",
       "      <th>No</th>\n",
       "      <th>TV</th>\n",
       "      <th>radio</th>\n",
       "      <th>newspaper</th>\n",
       "      <th>sales</th>\n",
       "    </tr>\n",
       "  </thead>\n",
       "  <tbody>\n",
       "    <tr>\n",
       "      <th>0</th>\n",
       "      <td>1</td>\n",
       "      <td>230.1</td>\n",
       "      <td>37.8</td>\n",
       "      <td>69.2</td>\n",
       "      <td>22.1</td>\n",
       "    </tr>\n",
       "    <tr>\n",
       "      <th>1</th>\n",
       "      <td>2</td>\n",
       "      <td>44.5</td>\n",
       "      <td>39.3</td>\n",
       "      <td>45.1</td>\n",
       "      <td>10.4</td>\n",
       "    </tr>\n",
       "    <tr>\n",
       "      <th>2</th>\n",
       "      <td>3</td>\n",
       "      <td>17.2</td>\n",
       "      <td>45.9</td>\n",
       "      <td>69.3</td>\n",
       "      <td>9.3</td>\n",
       "    </tr>\n",
       "    <tr>\n",
       "      <th>3</th>\n",
       "      <td>4</td>\n",
       "      <td>151.5</td>\n",
       "      <td>41.3</td>\n",
       "      <td>58.5</td>\n",
       "      <td>18.5</td>\n",
       "    </tr>\n",
       "    <tr>\n",
       "      <th>4</th>\n",
       "      <td>5</td>\n",
       "      <td>180.8</td>\n",
       "      <td>10.8</td>\n",
       "      <td>58.4</td>\n",
       "      <td>12.9</td>\n",
       "    </tr>\n",
       "  </tbody>\n",
       "</table>\n",
       "</div>"
      ],
      "text/plain": [
       "   No     TV  radio  newspaper  sales\n",
       "0   1  230.1   37.8       69.2   22.1\n",
       "1   2   44.5   39.3       45.1   10.4\n",
       "2   3   17.2   45.9       69.3    9.3\n",
       "3   4  151.5   41.3       58.5   18.5\n",
       "4   5  180.8   10.8       58.4   12.9"
      ]
     },
     "execution_count": 2,
     "metadata": {},
     "output_type": "execute_result"
    }
   ],
   "source": [
    "df=pd.read_csv('Advertising.csv')\n",
    "df.head()"
   ]
  },
  {
   "cell_type": "code",
   "execution_count": 3,
   "id": "8ceee2b8",
   "metadata": {},
   "outputs": [],
   "source": [
    "W=df.drop(columns='sales')\n",
    "X=W.drop(columns='No')\n",
    "Y=df['sales']\n",
    "Y=np.array((Y-Y.mean())/Y.std())\n",
    "X=X.apply(lambda rec:(rec-rec.mean())/rec.std(),axis=0)"
   ]
  },
  {
   "cell_type": "markdown",
   "id": "fb54169a",
   "metadata": {},
   "source": [
    "Setelah kami memiliki dataset yang dinormalisasi, kami dapat mulai mendefinisikan algoritma kami. Untuk menerapkan algoritma penurunan gradien kita perlu mengikuti 4 langkah:\n",
    "1. Inisialisasi bias dan bobot theta secara acak\n",
    "2. Hitung nilai prediksi y yaitu Y dengan bias dan bobot\n",
    "3. Hitung fungsi biaya dari nilai prediksi dan nilai aktual Y\n",
    "4. Hitung gradien dan bobotnya"
   ]
  },
  {
   "cell_type": "code",
   "execution_count": 4,
   "id": "1c43a66c",
   "metadata": {},
   "outputs": [
    {
     "data": {
      "text/html": [
       "<div>\n",
       "<style scoped>\n",
       "    .dataframe tbody tr th:only-of-type {\n",
       "        vertical-align: middle;\n",
       "    }\n",
       "\n",
       "    .dataframe tbody tr th {\n",
       "        vertical-align: top;\n",
       "    }\n",
       "\n",
       "    .dataframe thead th {\n",
       "        text-align: right;\n",
       "    }\n",
       "</style>\n",
       "<table border=\"1\" class=\"dataframe\">\n",
       "  <thead>\n",
       "    <tr style=\"text-align: right;\">\n",
       "      <th></th>\n",
       "      <th>TV</th>\n",
       "      <th>radio</th>\n",
       "      <th>newspaper</th>\n",
       "    </tr>\n",
       "  </thead>\n",
       "  <tbody>\n",
       "    <tr>\n",
       "      <th>0</th>\n",
       "      <td>0.967425</td>\n",
       "      <td>0.979066</td>\n",
       "      <td>1.774493</td>\n",
       "    </tr>\n",
       "    <tr>\n",
       "      <th>1</th>\n",
       "      <td>-1.194379</td>\n",
       "      <td>1.080097</td>\n",
       "      <td>0.667903</td>\n",
       "    </tr>\n",
       "    <tr>\n",
       "      <th>2</th>\n",
       "      <td>-1.512360</td>\n",
       "      <td>1.524637</td>\n",
       "      <td>1.779084</td>\n",
       "    </tr>\n",
       "    <tr>\n",
       "      <th>3</th>\n",
       "      <td>0.051919</td>\n",
       "      <td>1.214806</td>\n",
       "      <td>1.283185</td>\n",
       "    </tr>\n",
       "    <tr>\n",
       "      <th>4</th>\n",
       "      <td>0.393196</td>\n",
       "      <td>-0.839507</td>\n",
       "      <td>1.278593</td>\n",
       "    </tr>\n",
       "  </tbody>\n",
       "</table>\n",
       "</div>"
      ],
      "text/plain": [
       "         TV     radio  newspaper\n",
       "0  0.967425  0.979066   1.774493\n",
       "1 -1.194379  1.080097   0.667903\n",
       "2 -1.512360  1.524637   1.779084\n",
       "3  0.051919  1.214806   1.283185\n",
       "4  0.393196 -0.839507   1.278593"
      ]
     },
     "execution_count": 4,
     "metadata": {},
     "output_type": "execute_result"
    }
   ],
   "source": [
    "X.head()"
   ]
  },
  {
   "cell_type": "code",
   "execution_count": 5,
   "id": "de2ce1b1",
   "metadata": {},
   "outputs": [
    {
     "name": "stdout",
     "output_type": "stream",
     "text": [
      "[ 1.54816813 -0.69430382 -0.90513451  0.85817677 -0.21514314 -1.30762948\n",
      " -0.42597384 -0.15764386 -1.76762372 -0.65597096 -1.0392995   0.64734607\n",
      " -0.92430094 -0.8284688   0.9540089   1.60566742 -0.29180885  1.98899595\n",
      " -0.52180597  0.11068612  0.76234463 -0.29180885 -1.61429231  0.28318396\n",
      " -0.8284688  -0.38764098  0.18735182  0.35984967  0.93484247 -0.67513739\n",
      "  1.41400315 -0.40680741 -0.84763523  0.64734607 -0.86680166 -0.23430957\n",
      "  2.18066022  0.12985254 -0.7518031   1.43316957  0.49401465  0.58984679\n",
      "  1.27983816 -0.21514314 -1.05846593  0.1681854  -0.65597096  1.75899883\n",
      "  0.14901897 -0.8284688  -0.50263955 -0.63680453  1.64400027  1.37567029\n",
      "  1.18400602  1.85483097 -1.63345873 -0.15764386  1.87399739  0.83901034\n",
      " -1.13513163  1.9506631   0.32151681 -0.00431245  0.76234463 -0.90513451\n",
      " -0.86680166 -0.11931101  0.93484247  1.58650099  0.81984391 -0.31097528\n",
      " -1.00096665 -0.57930525  0.57068036 -1.02013307 -1.36512876  0.03402041\n",
      " -1.67179159 -0.57930525 -0.42597384 -0.3301417  -0.52180597 -0.08097815\n",
      "  1.47150243  0.22568468 -0.38764098  0.37901609 -0.21514314  0.51318108\n",
      " -0.5409724  -1.28846305  1.03067461  1.56733456 -0.48347312  0.55151393\n",
      " -0.44514027  0.28318396  2.18066022  0.60901322 -0.44514027  1.87399739\n",
      "  0.14901897  0.12985254  1.27983816  0.99234175 -1.30762948 -1.02013307\n",
      " -1.67179159  1.10734032 -0.11931101  1.49066885  0.01485398  0.35984967\n",
      "  0.11068612 -0.27264242 -0.34930813 -0.88596808  0.35984967 -1.42262804\n",
      "  0.28318396 -1.34596233 -0.46430669  0.22568468  1.08817389 -0.65597096\n",
      " -1.42262804 -1.00096665  2.04649523 -0.8284688  -2.38094938 -0.253476\n",
      " -1.59512588  1.06900746 -0.61763811 -0.46430669 -0.86680166  1.29900458\n",
      " -0.84763523  1.27983816 -0.59847168  0.99234175  1.1648396  -0.69430382\n",
      " -0.50263955 -0.71347024 -0.15764386  2.18066022 -0.59847168 -0.7518031\n",
      "  0.39818252 -0.46430669  0.49401465  0.9540089   0.30235038 -2.07428655\n",
      "  0.2448511  -0.7518031  -1.28846305 -0.21514314  0.07235326 -0.13847743\n",
      "  0.1681854   0.76234463 -0.40680741 -0.40680741 -1.15429806 -0.34930813\n",
      "  0.58984679  0.18735182 -1.07763235  0.09151969 -1.23096377 -0.44514027\n",
      " -0.48347312  2.48732305  1.18400602 -0.44514027 -0.42597384 -0.27264242\n",
      " -0.67513739 -0.34930813 -1.02013307  2.33399164  0.68567892  1.64400027\n",
      " -0.71347024  0.62817964  0.35984967 -1.40346161 -0.61763811 -0.79013595\n",
      " -1.55679303  1.06900746  0.62817964 -1.23096377 -0.8284688  -0.23430957\n",
      "  2.19982665 -0.11931101]\n"
     ]
    }
   ],
   "source": [
    "print(Y)"
   ]
  },
  {
   "cell_type": "code",
   "execution_count": 6,
   "id": "10a95d19",
   "metadata": {},
   "outputs": [],
   "source": [
    "import random\n",
    "def initialize(dim):\n",
    "    b=random.random()\n",
    "    theta=np.random.rand(dim)\n",
    "    return b,theta"
   ]
  },
  {
   "cell_type": "code",
   "execution_count": 7,
   "id": "9dcb46b0",
   "metadata": {},
   "outputs": [
    {
     "name": "stdout",
     "output_type": "stream",
     "text": [
      "Bias:  0.49115529162828275 Weights:  [0.73692894 0.71716185 0.17929156]\n"
     ]
    }
   ],
   "source": [
    "b,theta=initialize(3)\n",
    "print(\"Bias: \",b,\"Weights: \",theta)"
   ]
  },
  {
   "cell_type": "code",
   "execution_count": 8,
   "id": "5e1df06b",
   "metadata": {},
   "outputs": [],
   "source": [
    "def predict_Y(b,theta,X):\n",
    "    return b + np.dot(X,theta)"
   ]
  },
  {
   "cell_type": "code",
   "execution_count": 9,
   "id": "48440396",
   "metadata": {},
   "outputs": [
    {
     "data": {
      "text/plain": [
       "array([ 2.22437849,  0.50533679,  0.78904009,  1.6306933 ,  0.40809105,\n",
       "        0.90791775,  0.12512439, -0.07227126, -1.9627746 , -0.13116372])"
      ]
     },
     "execution_count": 9,
     "metadata": {},
     "output_type": "execute_result"
    }
   ],
   "source": [
    "Y_hat=predict_Y(b,theta,X)\n",
    "Y_hat[0:10]"
   ]
  },
  {
   "cell_type": "code",
   "execution_count": 10,
   "id": "072b0160",
   "metadata": {},
   "outputs": [],
   "source": [
    "import math\n",
    "def get_cost(Y,Y_hat):\n",
    "    Y_resd=Y-Y_hat\n",
    "    return np.sum(np.dot(Y_resd.T,Y_resd))/len(Y-Y_resd)"
   ]
  },
  {
   "cell_type": "code",
   "execution_count": 11,
   "id": "537c50db",
   "metadata": {},
   "outputs": [
    {
     "data": {
      "text/plain": [
       "0.4325253529874172"
      ]
     },
     "execution_count": 11,
     "metadata": {},
     "output_type": "execute_result"
    }
   ],
   "source": [
    "Y_hat=predict_Y(b,theta,X)\n",
    "get_cost(Y,Y_hat)"
   ]
  },
  {
   "cell_type": "code",
   "execution_count": 12,
   "id": "ca405af4",
   "metadata": {},
   "outputs": [],
   "source": [
    "def update_theta(x,y,y_hat,b_0,theta_o,learning_rate):\n",
    "    db=(np.sum(y_hat-y)*2)/len(y)\n",
    "    dw=(np.dot((y_hat-y),x)*2)/len(y)\n",
    "    b_1=b_0-learning_rate*db\n",
    "    theta_1=theta_o-learning_rate*dw\n",
    "    return b_1,theta_1"
   ]
  },
  {
   "cell_type": "code",
   "execution_count": 13,
   "id": "21d533fd",
   "metadata": {},
   "outputs": [
    {
     "name": "stdout",
     "output_type": "stream",
     "text": [
      "After initialization -Bias:  0.49115529162828275 theta:  [0.73692894 0.71716185 0.17929156]\n",
      "After first update -Bias:  0.4813321857957171 theta:  [0.736846   0.71228999 0.17438247]\n"
     ]
    },
    {
     "data": {
      "text/plain": [
       "0.4325253529874172"
      ]
     },
     "execution_count": 13,
     "metadata": {},
     "output_type": "execute_result"
    }
   ],
   "source": [
    "print(\"After initialization -Bias: \",b,\"theta: \",theta)\n",
    "Y_hat=predict_Y(b,theta,X)\n",
    "b,theta=update_theta(X,Y,Y_hat,b,theta,0.01)\n",
    "print(\"After first update -Bias: \",b,\"theta: \",theta)\n",
    "get_cost(Y,Y_hat)"
   ]
  },
  {
   "cell_type": "code",
   "execution_count": 14,
   "id": "a854904d",
   "metadata": {},
   "outputs": [],
   "source": [
    "def run_gradient_descent(X,Y,alpha,num_iterations):\n",
    "    b,theta=initialize(X.shape[1])\n",
    "    iter_num=0\n",
    "    gd_iterations_df=pd.DataFrame(columns=['iteration','cost'])\n",
    "    result_idx=0\n",
    "    for each_iter in range(num_iterations):\n",
    "        Y_hat=predict_Y(b,theta,X)\n",
    "        this_cost=get_cost(Y,Y_hat)\n",
    "        prev_b=b\n",
    "        prev_theta=theta\n",
    "        b,theta=update_theta(X,Y,Y_hat,prev_b,prev_theta,alpha)\n",
    "        if(iter_num%10==0):\n",
    "            gd_iterations_df.loc[result_idx]=[iter_num,this_cost]\n",
    "        result_idx=result_idx+1\n",
    "        iter_num +=1\n",
    "    print(\"Final Estimate of b and theta : \",b,theta)\n",
    "    return gd_iterations_df,b,theta"
   ]
  },
  {
   "cell_type": "code",
   "execution_count": 15,
   "id": "6490bb77",
   "metadata": {},
   "outputs": [
    {
     "name": "stdout",
     "output_type": "stream",
     "text": [
      "Final Estimate of b and theta :  0.32453895863202714 [0.8885527  0.64946192 0.24815192]\n"
     ]
    }
   ],
   "source": [
    "gd_iterations_df,b,theta=run_gradient_descent(X,Y,alpha=0.001,num_iterations=200)"
   ]
  },
  {
   "cell_type": "code",
   "execution_count": 16,
   "id": "d65c54ec",
   "metadata": {},
   "outputs": [
    {
     "data": {
      "text/html": [
       "<div>\n",
       "<style scoped>\n",
       "    .dataframe tbody tr th:only-of-type {\n",
       "        vertical-align: middle;\n",
       "    }\n",
       "\n",
       "    .dataframe tbody tr th {\n",
       "        vertical-align: top;\n",
       "    }\n",
       "\n",
       "    .dataframe thead th {\n",
       "        text-align: right;\n",
       "    }\n",
       "</style>\n",
       "<table border=\"1\" class=\"dataframe\">\n",
       "  <thead>\n",
       "    <tr style=\"text-align: right;\">\n",
       "      <th></th>\n",
       "      <th>iteration</th>\n",
       "      <th>cost</th>\n",
       "    </tr>\n",
       "  </thead>\n",
       "  <tbody>\n",
       "    <tr>\n",
       "      <th>0</th>\n",
       "      <td>0.0</td>\n",
       "      <td>0.681819</td>\n",
       "    </tr>\n",
       "    <tr>\n",
       "      <th>10</th>\n",
       "      <td>10.0</td>\n",
       "      <td>0.654757</td>\n",
       "    </tr>\n",
       "    <tr>\n",
       "      <th>20</th>\n",
       "      <td>20.0</td>\n",
       "      <td>0.628991</td>\n",
       "    </tr>\n",
       "    <tr>\n",
       "      <th>30</th>\n",
       "      <td>30.0</td>\n",
       "      <td>0.604457</td>\n",
       "    </tr>\n",
       "    <tr>\n",
       "      <th>40</th>\n",
       "      <td>40.0</td>\n",
       "      <td>0.581095</td>\n",
       "    </tr>\n",
       "    <tr>\n",
       "      <th>50</th>\n",
       "      <td>50.0</td>\n",
       "      <td>0.558849</td>\n",
       "    </tr>\n",
       "    <tr>\n",
       "      <th>60</th>\n",
       "      <td>60.0</td>\n",
       "      <td>0.537662</td>\n",
       "    </tr>\n",
       "    <tr>\n",
       "      <th>70</th>\n",
       "      <td>70.0</td>\n",
       "      <td>0.517485</td>\n",
       "    </tr>\n",
       "    <tr>\n",
       "      <th>80</th>\n",
       "      <td>80.0</td>\n",
       "      <td>0.498267</td>\n",
       "    </tr>\n",
       "    <tr>\n",
       "      <th>90</th>\n",
       "      <td>90.0</td>\n",
       "      <td>0.479963</td>\n",
       "    </tr>\n",
       "  </tbody>\n",
       "</table>\n",
       "</div>"
      ],
      "text/plain": [
       "    iteration      cost\n",
       "0         0.0  0.681819\n",
       "10       10.0  0.654757\n",
       "20       20.0  0.628991\n",
       "30       30.0  0.604457\n",
       "40       40.0  0.581095\n",
       "50       50.0  0.558849\n",
       "60       60.0  0.537662\n",
       "70       70.0  0.517485\n",
       "80       80.0  0.498267\n",
       "90       90.0  0.479963"
      ]
     },
     "execution_count": 16,
     "metadata": {},
     "output_type": "execute_result"
    }
   ],
   "source": [
    "gd_iterations_df[0:10]"
   ]
  },
  {
   "cell_type": "code",
   "execution_count": 17,
   "id": "59458ec4",
   "metadata": {},
   "outputs": [
    {
     "data": {
      "text/plain": [
       "Text(0, 0.5, 'Cost or MSE')"
      ]
     },
     "execution_count": 17,
     "metadata": {},
     "output_type": "execute_result"
    },
    {
     "data": {
      "image/png": "[encoded data removed]",
      "text/plain": [
       "<Figure size 432x288 with 1 Axes>"
      ]
     },
     "metadata": {
      "needs_background": "light"
     },
     "output_type": "display_data"
    }
   ],
   "source": [
    "%matplotlib inline\n",
    "plt.plot(gd_iterations_df['iteration'],gd_iterations_df['cost'])\n",
    "plt.xlabel(\"Number of iterations\")\n",
    "plt.ylabel(\"Cost or MSE\")"
   ]
  },
  {
   "cell_type": "code",
   "execution_count": 18,
   "id": "e98a01b2",
   "metadata": {},
   "outputs": [
    {
     "name": "stdout",
     "output_type": "stream",
     "text": [
      "Final Estimate of b and theta :  2.773898204868732e-16 [ 0.75306591  0.53648155 -0.00433069]\n",
      "Final Estimate of b and theta :  0.015468163415963907 [0.73996807 0.50234195 0.03599647]\n"
     ]
    },
    {
     "data": {
      "text/plain": [
       "Text(0.5, 1.0, '‘Cost Vs. Iterations for different alpha values’')"
      ]
     },
     "execution_count": 18,
     "metadata": {},
     "output_type": "execute_result"
    },
    {
     "data": {
      "image/png": "[encoded data removed]",
      "text/plain": [
       "<Figure size 432x288 with 1 Axes>"
      ]
     },
     "metadata": {
      "needs_background": "light"
     },
     "output_type": "display_data"
    }
   ],
   "source": [
    "alpha_df_1,b,theta=run_gradient_descent(X,Y,alpha=0.01,num_iterations=2000)\n",
    "alpha_df_2,b,theta=run_gradient_descent(X,Y,alpha=0.001,num_iterations=2000)\n",
    "plt.plot(alpha_df_1['iteration'],alpha_df_1['cost'],label=\"alpha=0.01\")\n",
    "plt.plot(alpha_df_2['iteration'],alpha_df_2['cost'],label=\"alpha=0.001\")\n",
    "plt.legend()\n",
    "plt.ylabel('cost')\n",
    "plt.xlabel('Number of iterations')\n",
    "plt.title('‘Cost Vs. Iterations for different alpha values’')"
   ]
  },
  {
   "cell_type": "code",
   "execution_count": null,
   "id": "bfc0dafc",
   "metadata": {},
   "outputs": [],
   "source": []
  }
 ],
 "metadata": {
  "kernelspec": {
   "display_name": "Python 3 (ipykernel)",
   "language": "python",
   "name": "python3"
  },
  "language_info": {
   "codemirror_mode": {
    "name": "ipython",
    "version": 3
   },
   "file_extension": ".py",
   "mimetype": "text/x-python",
   "name": "python",
   "nbconvert_exporter": "python",
   "pygments_lexer": "ipython3",
   "version": "3.9.7"
  }
 },
 "nbformat": 4,
 "nbformat_minor": 5
}
