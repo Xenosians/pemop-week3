{
  "nbformat": 4,
  "nbformat_minor": 0,
  "metadata": {
    "colab": {
      "private_outputs": true,
      "provenance": [],
      "authorship_tag": "ABX9TyO6ZMCfgQxg2yVRi7lx8FjW",
      "include_colab_link": true
    },
    "kernelspec": {
      "name": "python3",
      "display_name": "Python 3"
    },
    "language_info": {
      "name": "python"
    }
  },
  "cells": [
    {
      "cell_type": "markdown",
      "metadata": {
        "id": "view-in-github",
        "colab_type": "text"
      },
      "source": [
        "<a href=\"https://colab.research.google.com/github/Xenosians/pemop-week3/blob/main/pemop-week-3.ipynb\" target=\"_parent\"><img src=\"https://colab.research.google.com/assets/colab-badge.svg\" alt=\"Open In Colab\"/></a>"
      ]
    },
    {
      "cell_type": "code",
      "execution_count": null,
      "metadata": {
        "id": "qgE8Lz-qDrLf"
      },
      "outputs": [],
      "source": [
        "import pandas as pd\n",
        "import numpy as np\n",
        "import matplotlib.pyplot as plt\n",
        "from sklearn.metrics import mean_squared_error, r2_score"
      ]
    },
    {
      "cell_type": "code",
      "source": [
        "df = pd.read_csv('c.csv', header = None)\n",
        "df.head()"
      ],
      "metadata": {
        "id": "jLvsPRkqFSPJ"
      },
      "execution_count": null,
      "outputs": []
    },
    {
      "cell_type": "markdown",
      "source": [
        "##Y1"
      ],
      "metadata": {
        "id": "_yliQs9IihlX"
      }
    },
    {
      "cell_type": "markdown",
      "source": [
        "add bias ( seperti pada contoh )"
      ],
      "metadata": {
        "id": "0T1VVVtcFqM9"
      }
    },
    {
      "cell_type": "code",
      "source": [
        "df = pd.concat([pd.Series(1, index=df.index, name='00'), df], axis=1)\n",
        "df.head()"
      ],
      "metadata": {
        "id": "5Kwba35PFko7"
      },
      "execution_count": null,
      "outputs": []
    },
    {
      "cell_type": "code",
      "source": [
        "df.set_axis([\"Bias\",\"Y1\",\"Y2\",\"Z1\",\"Z2\",\"Z3\",\"Z4\",\"Z5\"],axis=\"columns\",copy=False,inplace=True)\n",
        "df"
      ],
      "metadata": {
        "id": "9Z39kWqXe-W0"
      },
      "execution_count": null,
      "outputs": []
    },
    {
      "cell_type": "code",
      "source": [
        "X = df.drop(columns=\"Y2\")\n",
        "y = df.iloc[:, 1]\n",
        "X"
      ],
      "metadata": {
        "id": "I3ZadtDycwcf"
      },
      "execution_count": null,
      "outputs": []
    },
    {
      "cell_type": "code",
      "source": [
        "y"
      ],
      "metadata": {
        "id": "XWsJIAFOeM_C"
      },
      "execution_count": null,
      "outputs": []
    },
    {
      "cell_type": "code",
      "source": [
        "for col in X.columns[1:]:\n",
        "    X[col] = X[col] / np.max(X[col])\n",
        "X.head()"
      ],
      "metadata": {
        "id": "0-PVADjred4z"
      },
      "execution_count": null,
      "outputs": []
    },
    {
      "cell_type": "code",
      "source": [
        "theta = np.array([0]*len(X.columns))"
      ],
      "metadata": {
        "id": "hN32M0QIgNea"
      },
      "execution_count": null,
      "outputs": []
    },
    {
      "cell_type": "code",
      "source": [
        "m = len(df)\n",
        "print (m)"
      ],
      "metadata": {
        "id": "1gLxEOa-gQvc"
      },
      "execution_count": null,
      "outputs": []
    },
    {
      "cell_type": "code",
      "source": [
        "def hypothesis(theta, X):\n",
        "    return theta*X"
      ],
      "metadata": {
        "id": "zIQyj2r1gT2I"
      },
      "execution_count": null,
      "outputs": []
    },
    {
      "cell_type": "code",
      "source": [
        "def computeCost(X, y, theta):\n",
        "    y1 = hypothesis(theta, X)\n",
        "    y1 = np.sum(y1, axis=1)\n",
        "    return sum(np.sqrt((y1-y)**2))/(2*47)"
      ],
      "metadata": {
        "id": "EBu3MKlGgWIZ"
      },
      "execution_count": null,
      "outputs": []
    },
    {
      "cell_type": "code",
      "source": [
        "def gradientDescent(X, y, theta, alpha, i):\n",
        "    J = []  #cost function in each iterations\n",
        "    k = 0\n",
        "    while k < i:\n",
        "        y1 = hypothesis(theta, X)\n",
        "        y1 = np.sum(y1, axis=1)\n",
        "        for c in range(0, len(X.columns)):\n",
        "            theta[c] = theta[c] - alpha*(sum((y1-y)*X.iloc[:,c])/len(X))\n",
        "        j = computeCost(X, y, theta)\n",
        "        J.append(j)\n",
        "        k += 1\n",
        "    return J, j, theta"
      ],
      "metadata": {
        "id": "9QGorhrKgZIc"
      },
      "execution_count": null,
      "outputs": []
    },
    {
      "cell_type": "code",
      "source": [
        "iter_ = 10000\n",
        "J, j, theta = gradientDescent(X, y, theta, 0.05, iter_)"
      ],
      "metadata": {
        "id": "xWdTHRdigb04"
      },
      "execution_count": null,
      "outputs": []
    },
    {
      "cell_type": "code",
      "source": [
        "y_hat = hypothesis(theta, X)\n",
        "y_hat = np.sum(y_hat, axis=1)"
      ],
      "metadata": {
        "id": "EB16PqOrgfUo"
      },
      "execution_count": null,
      "outputs": []
    },
    {
      "cell_type": "code",
      "source": [
        "print(y_hat)"
      ],
      "metadata": {
        "id": "z3dhzOrIkpAa"
      },
      "execution_count": null,
      "outputs": []
    },
    {
      "cell_type": "code",
      "source": [
        "mse = mean_squared_error(y, y_hat)\n",
        "rmse = mean_squared_error(y, y_hat, squared=False)\n",
        "r2 = r2_score(y, y_hat)\n",
        "\n",
        "print(f\"Mean Squared Error (MSE): {mse}\")\n",
        "print(f\"Root Mean Squared Error (RMSE): {rmse}\")\n",
        "print(f\"R-squared (R2): {r2}\")"
      ],
      "metadata": {
        "id": "ZDh99aqLg6l2"
      },
      "execution_count": null,
      "outputs": []
    },
    {
      "cell_type": "code",
      "source": [
        "import matplotlib.pyplot as plt\n",
        "\n",
        "plt.scatter(y, y_hat)\n",
        "plt.xlabel(\"Actual Y1 Values\")\n",
        "plt.ylabel(\"Predicted Y1 Values\")\n",
        "plt.title(\"Actual vs. Predicted Y1 Values\")\n",
        "plt.show()"
      ],
      "metadata": {
        "id": "vwhfbmRKg9Yj"
      },
      "execution_count": null,
      "outputs": []
    },
    {
      "cell_type": "code",
      "source": [
        "mse = mean_squared_error(y, y_hat)\n",
        "actual_range = np.max(y) - np.min(y)\n",
        "rmse_percentage = (np.sqrt(mse) / actual_range) * 100\n",
        "\n",
        "print(f\"Mean Squared Error (MSE): {mse}\")\n",
        "print(f\"Root Mean Squared Error (RMSE): {rmse_percentage:.2f}%\")"
      ],
      "metadata": {
        "id": "n-ZMovYvhGJK"
      },
      "execution_count": null,
      "outputs": []
    },
    {
      "cell_type": "markdown",
      "source": [
        "##Y2"
      ],
      "metadata": {
        "id": "0c1LddFailLw"
      }
    },
    {
      "cell_type": "code",
      "source": [
        "X = df.drop(columns=\"Y1\")\n",
        "y = df.iloc[:, 2]\n",
        "X"
      ],
      "metadata": {
        "id": "PgfAOKQ4ioke"
      },
      "execution_count": null,
      "outputs": []
    },
    {
      "cell_type": "code",
      "source": [
        "y"
      ],
      "metadata": {
        "id": "ePEGAUPmi4CV"
      },
      "execution_count": null,
      "outputs": []
    },
    {
      "cell_type": "code",
      "source": [
        "for col in X.columns[1:]:\n",
        "    X[col] = X[col] / np.max(X[col])\n",
        "X.head()"
      ],
      "metadata": {
        "id": "xafHsThgjebk"
      },
      "execution_count": null,
      "outputs": []
    },
    {
      "cell_type": "code",
      "source": [
        "theta = np.array([0]*len(X.columns))"
      ],
      "metadata": {
        "id": "kZNh_XvIjhrR"
      },
      "execution_count": null,
      "outputs": []
    },
    {
      "cell_type": "code",
      "source": [
        "m = len(df)\n",
        "print (m)"
      ],
      "metadata": {
        "id": "r2fYrb3ejleN"
      },
      "execution_count": null,
      "outputs": []
    },
    {
      "cell_type": "code",
      "source": [
        "def hypothesis(theta, X):\n",
        "    return theta*X"
      ],
      "metadata": {
        "id": "MDPcTDTajniS"
      },
      "execution_count": null,
      "outputs": []
    },
    {
      "cell_type": "code",
      "source": [
        "def computeCost(X, y, theta):\n",
        "    y2 = hypothesis(theta, X)\n",
        "    y2 = np.sum(y2, axis=1)\n",
        "    return sum(np.sqrt((y2-y)**2))/(2*47)"
      ],
      "metadata": {
        "id": "VwRLqyVajrKs"
      },
      "execution_count": null,
      "outputs": []
    },
    {
      "cell_type": "code",
      "source": [
        "def gradientDescent(X, y, theta, alpha, i):\n",
        "    J = []  #cost function in each iterations\n",
        "    k = 0\n",
        "    while k < i:\n",
        "        y2 = hypothesis(theta, X)\n",
        "        y2 = np.sum(y2, axis=1)\n",
        "        for c in range(0, len(X.columns)):\n",
        "            theta[c] = theta[c] - alpha*(sum((y2-y)*X.iloc[:,c])/len(X))\n",
        "        j = computeCost(X, y, theta)\n",
        "        J.append(j)\n",
        "        k += 1\n",
        "    return J, j, theta"
      ],
      "metadata": {
        "id": "geI-McgNjuct"
      },
      "execution_count": null,
      "outputs": []
    },
    {
      "cell_type": "code",
      "source": [
        "iter_ = 10000\n",
        "J, j, theta = gradientDescent(X, y, theta, 0.05, iter_)"
      ],
      "metadata": {
        "id": "tTgeZonojxEY"
      },
      "execution_count": null,
      "outputs": []
    },
    {
      "cell_type": "code",
      "source": [
        "y_hat = hypothesis(theta, X)\n",
        "y_hat = np.sum(y_hat, axis=1)"
      ],
      "metadata": {
        "id": "4TKq4rhLjzQ0"
      },
      "execution_count": null,
      "outputs": []
    },
    {
      "cell_type": "code",
      "source": [
        "print(y_hat)"
      ],
      "metadata": {
        "id": "Qf-l-LZmkkN0"
      },
      "execution_count": null,
      "outputs": []
    },
    {
      "cell_type": "code",
      "source": [
        "mse = mean_squared_error(y, y_hat)\n",
        "rmse = mean_squared_error(y, y_hat, squared=False)\n",
        "r2 = r2_score(y, y_hat)\n",
        "\n",
        "print(f\"Mean Squared Error (MSE): {mse}\")\n",
        "print(f\"Root Mean Squared Error (RMSE): {rmse}\")\n",
        "print(f\"R-squared (R2): {r2}\")"
      ],
      "metadata": {
        "id": "VVHC1KPqhoFt"
      },
      "execution_count": null,
      "outputs": []
    },
    {
      "cell_type": "code",
      "source": [
        "import matplotlib.pyplot as plt\n",
        "\n",
        "plt.scatter(y, y_hat)\n",
        "plt.xlabel(\"Actual Y2 Values\")\n",
        "plt.ylabel(\"Predicted Y2 Values\")\n",
        "plt.title(\"Actual vs. Predicted Y2 Values\")\n",
        "plt.show()"
      ],
      "metadata": {
        "id": "TSDSGUkwhsHQ"
      },
      "execution_count": null,
      "outputs": []
    },
    {
      "cell_type": "code",
      "source": [
        "mse = mean_squared_error(y, y_hat)\n",
        "actual_range = np.max(y) - np.min(y)\n",
        "rmse_percentage = (np.sqrt(mse) / actual_range) * 100\n",
        "\n",
        "print(f\"Mean Squared Error (MSE): {mse}\")\n",
        "print(f\"Root Mean Squared Error (RMSE): {rmse_percentage:.2f}%\")"
      ],
      "metadata": {
        "id": "5ZYlyjN4ihMN"
      },
      "execution_count": null,
      "outputs": []
    },
    {
      "cell_type": "markdown",
      "source": [
        "##Y1&Y2"
      ],
      "metadata": {
        "id": "_LlVphLKlVma"
      }
    },
    {
      "cell_type": "code",
      "source": [],
      "metadata": {
        "id": "KZOIkQeulhDm"
      },
      "execution_count": null,
      "outputs": []
    }
  ]
}