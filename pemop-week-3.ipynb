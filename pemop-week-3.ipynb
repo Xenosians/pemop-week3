{
  "nbformat": 4,
  "nbformat_minor": 0,
  "metadata": {
    "colab": {
      "private_outputs": true,
      "provenance": [],
      "authorship_tag": "ABX9TyOCfa22xEPqG7xjJ4GwqyW3",
      "include_colab_link": true
    },
    "kernelspec": {
      "name": "python3",
      "display_name": "Python 3"
    },
    "language_info": {
      "name": "python"
    }
  },
  "cells": [
    {
      "cell_type": "markdown",
      "metadata": {
        "id": "view-in-github",
        "colab_type": "text"
      },
      "source": [
        "<a href=\"https://colab.research.google.com/github/Xenosians/pemop-week3/blob/main/pemop-week-3.ipynb\" target=\"_parent\"><img src=\"https://colab.research.google.com/assets/colab-badge.svg\" alt=\"Open In Colab\"/></a>"
      ]
    },
    {
      "cell_type": "code",
      "execution_count": null,
      "metadata": {
        "id": "qgE8Lz-qDrLf"
      },
      "outputs": [],
      "source": [
        "import pandas as pd\n",
        "import numpy as np\n",
        "import matplotlib.pyplot as plt"
      ]
    },
    {
      "cell_type": "code",
      "source": [
        "df = pd.read_csv('c.csv', header = None)\n",
        "df.head()"
      ],
      "metadata": {
        "id": "jLvsPRkqFSPJ"
      },
      "execution_count": null,
      "outputs": []
    },
    {
      "cell_type": "markdown",
      "source": [
        "##Y1"
      ],
      "metadata": {
        "id": "_yliQs9IihlX"
      }
    },
    {
      "cell_type": "markdown",
      "source": [
        "add bias ( seperti pada contoh )"
      ],
      "metadata": {
        "id": "0T1VVVtcFqM9"
      }
    },
    {
      "cell_type": "code",
      "source": [
        "df = pd.concat([pd.Series(1, index=df.index, name='00'), df], axis=1)\n",
        "df.head()"
      ],
      "metadata": {
        "id": "5Kwba35PFko7"
      },
      "execution_count": null,
      "outputs": []
    },
    {
      "cell_type": "code",
      "source": [
        "df.set_axis([\"Bias\",\"Y1\",\"Y2\",\"Z1\",\"Z2\",\"Z3\",\"Z4\",\"Z5\"],axis=\"columns\",copy=False,inplace=True)\n",
        "df"
      ],
      "metadata": {
        "id": "9Z39kWqXe-W0"
      },
      "execution_count": null,
      "outputs": []
    },
    {
      "cell_type": "code",
      "source": [
        "X = df.drop(columns=\"Y2\")\n",
        "y = df.iloc[:, 2]\n",
        "X"
      ],
      "metadata": {
        "id": "I3ZadtDycwcf"
      },
      "execution_count": null,
      "outputs": []
    },
    {
      "cell_type": "code",
      "source": [
        "y"
      ],
      "metadata": {
        "id": "XWsJIAFOeM_C"
      },
      "execution_count": null,
      "outputs": []
    },
    {
      "cell_type": "code",
      "source": [
        "for col in X.columns[1:]:\n",
        "    X[col] = X[col] / np.max(X[col])\n",
        "X.head()"
      ],
      "metadata": {
        "id": "0-PVADjred4z"
      },
      "execution_count": null,
      "outputs": []
    },
    {
      "cell_type": "code",
      "source": [
        "theta = np.array([0]*len(X.columns))"
      ],
      "metadata": {
        "id": "hN32M0QIgNea"
      },
      "execution_count": null,
      "outputs": []
    },
    {
      "cell_type": "code",
      "source": [
        "m = len(df)\n",
        "print (m)"
      ],
      "metadata": {
        "id": "1gLxEOa-gQvc"
      },
      "execution_count": null,
      "outputs": []
    },
    {
      "cell_type": "code",
      "source": [
        "def hypothesis(theta, X):\n",
        "    return theta*X"
      ],
      "metadata": {
        "id": "zIQyj2r1gT2I"
      },
      "execution_count": null,
      "outputs": []
    },
    {
      "cell_type": "code",
      "source": [
        "def computeCost(X, y, theta):\n",
        "    y1 = hypothesis(theta, X)\n",
        "    y1 = np.sum(y1, axis=1)\n",
        "    return sum(np.sqrt((y1-y)**2))/(2*47)"
      ],
      "metadata": {
        "id": "EBu3MKlGgWIZ"
      },
      "execution_count": null,
      "outputs": []
    },
    {
      "cell_type": "code",
      "source": [
        "def gradientDescent(X, y, theta, alpha, i):\n",
        "    J = []  #cost function in each iterations\n",
        "    k = 0\n",
        "    while k < i:\n",
        "        y1 = hypothesis(theta, X)\n",
        "        y1 = np.sum(y1, axis=1)\n",
        "        for c in range(0, len(X.columns)):\n",
        "            theta[c] = theta[c] - alpha*(sum((y1-y)*X.iloc[:,c])/len(X))\n",
        "        j = computeCost(X, y, theta)\n",
        "        J.append(j)\n",
        "        k += 1\n",
        "    return J, j, theta"
      ],
      "metadata": {
        "id": "9QGorhrKgZIc"
      },
      "execution_count": null,
      "outputs": []
    },
    {
      "cell_type": "code",
      "source": [
        "iter_ = 10000\n",
        "J, j, theta = gradientDescent(X, y, theta, 0.05, iter_)"
      ],
      "metadata": {
        "id": "xWdTHRdigb04"
      },
      "execution_count": null,
      "outputs": []
    },
    {
      "cell_type": "code",
      "source": [
        "y_hat = hypothesis(theta, X)\n",
        "y_hat = np.sum(y_hat, axis=1)"
      ],
      "metadata": {
        "id": "EB16PqOrgfUo"
      },
      "execution_count": null,
      "outputs": []
    },
    {
      "cell_type": "code",
      "source": [
        "print(y_hat)"
      ],
      "metadata": {
        "id": "z3dhzOrIkpAa"
      },
      "execution_count": null,
      "outputs": []
    },
    {
      "cell_type": "code",
      "source": [
        "y = df[\"Y1\"]\n",
        "x = list(range(len(y)))\n",
        "plt.figure()\n",
        "plt.scatter(x, y, color='blue')\n",
        "plt.xlabel(\"Index\")\n",
        "plt.ylabel(\"Y1 Values\")\n",
        "plt.title(\"Scatter Plot of Y1 Values\")\n",
        "plt.show()"
      ],
      "metadata": {
        "id": "Og_GPYwsgkAd"
      },
      "execution_count": null,
      "outputs": []
    },
    {
      "cell_type": "code",
      "source": [
        "plt.figure()\n",
        "plt.scatter(x=list(range(0, iter_)), y=J)\n",
        "plt.show()"
      ],
      "metadata": {
        "id": "Y8vJWdpCgmPC"
      },
      "execution_count": null,
      "outputs": []
    },
    {
      "cell_type": "markdown",
      "source": [
        "##Y2"
      ],
      "metadata": {
        "id": "0c1LddFailLw"
      }
    },
    {
      "cell_type": "code",
      "source": [
        "X = df.drop(columns=\"Y1\")\n",
        "y = df.iloc[:, 1]\n",
        "X"
      ],
      "metadata": {
        "id": "PgfAOKQ4ioke"
      },
      "execution_count": null,
      "outputs": []
    },
    {
      "cell_type": "code",
      "source": [
        "y"
      ],
      "metadata": {
        "id": "ePEGAUPmi4CV"
      },
      "execution_count": null,
      "outputs": []
    },
    {
      "cell_type": "code",
      "source": [
        "for col in X.columns[1:]:\n",
        "    X[col] = X[col] / np.max(X[col])\n",
        "X.head()"
      ],
      "metadata": {
        "id": "xafHsThgjebk"
      },
      "execution_count": null,
      "outputs": []
    },
    {
      "cell_type": "code",
      "source": [
        "theta = np.array([0]*len(X.columns))"
      ],
      "metadata": {
        "id": "kZNh_XvIjhrR"
      },
      "execution_count": null,
      "outputs": []
    },
    {
      "cell_type": "code",
      "source": [
        "m = len(df)\n",
        "print (m)"
      ],
      "metadata": {
        "id": "r2fYrb3ejleN"
      },
      "execution_count": null,
      "outputs": []
    },
    {
      "cell_type": "code",
      "source": [
        "def hypothesis(theta, X):\n",
        "    return theta*X"
      ],
      "metadata": {
        "id": "MDPcTDTajniS"
      },
      "execution_count": null,
      "outputs": []
    },
    {
      "cell_type": "code",
      "source": [
        "def computeCost(X, y, theta):\n",
        "    y1 = hypothesis(theta, X)\n",
        "    y1 = np.sum(y1, axis=1)\n",
        "    return sum(np.sqrt((y1-y)**2))/(2*47)"
      ],
      "metadata": {
        "id": "VwRLqyVajrKs"
      },
      "execution_count": null,
      "outputs": []
    },
    {
      "cell_type": "code",
      "source": [
        "def gradientDescent(X, y, theta, alpha, i):\n",
        "    J = []  #cost function in each iterations\n",
        "    k = 0\n",
        "    while k < i:\n",
        "        y1 = hypothesis(theta, X)\n",
        "        y1 = np.sum(y1, axis=1)\n",
        "        for c in range(0, len(X.columns)):\n",
        "            theta[c] = theta[c] - alpha*(sum((y1-y)*X.iloc[:,c])/len(X))\n",
        "        j = computeCost(X, y, theta)\n",
        "        J.append(j)\n",
        "        k += 1\n",
        "    return J, j, theta"
      ],
      "metadata": {
        "id": "geI-McgNjuct"
      },
      "execution_count": null,
      "outputs": []
    },
    {
      "cell_type": "code",
      "source": [
        "iter_ = 10000\n",
        "J, j, theta = gradientDescent(X, y, theta, 0.05, iter_)"
      ],
      "metadata": {
        "id": "tTgeZonojxEY"
      },
      "execution_count": null,
      "outputs": []
    },
    {
      "cell_type": "code",
      "source": [
        "y_hat = hypothesis(theta, X)\n",
        "y_hat = np.sum(y_hat, axis=1)"
      ],
      "metadata": {
        "id": "4TKq4rhLjzQ0"
      },
      "execution_count": null,
      "outputs": []
    },
    {
      "cell_type": "code",
      "source": [
        "print(y_hat)"
      ],
      "metadata": {
        "id": "Qf-l-LZmkkN0"
      },
      "execution_count": null,
      "outputs": []
    },
    {
      "cell_type": "markdown",
      "source": [
        "##Y1&Y2"
      ],
      "metadata": {
        "id": "_LlVphLKlVma"
      }
    },
    {
      "cell_type": "code",
      "source": [],
      "metadata": {
        "id": "KZOIkQeulhDm"
      },
      "execution_count": null,
      "outputs": []
    }
  ]
}