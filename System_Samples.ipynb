{
  "nbformat": 4,
  "nbformat_minor": 0,
  "metadata": {
    "colab": {
      "private_outputs": true,
      "provenance": [],
      "authorship_tag": "ABX9TyM8th67q1ao1t5P0c0Z/ZFL",
      "include_colab_link": true
    },
    "kernelspec": {
      "name": "python3",
      "display_name": "Python 3"
    },
    "language_info": {
      "name": "python"
    }
  },
  "cells": [
    {
      "cell_type": "markdown",
      "metadata": {
        "id": "view-in-github",
        "colab_type": "text"
      },
      "source": [
        "<a href=\"https://colab.research.google.com/github/Xenosians/pemop-week3/blob/main/System_Samples.ipynb\" target=\"_parent\"><img src=\"https://colab.research.google.com/assets/colab-badge.svg\" alt=\"Open In Colab\"/></a>"
      ]
    },
    {
      "cell_type": "code",
      "source": [
        "from google.colab import drive\n",
        "\n",
        "drive.mount('/content/gdrive')"
      ],
      "metadata": {
        "id": "wJAIMRuvq7J9"
      },
      "execution_count": null,
      "outputs": []
    },
    {
      "cell_type": "code",
      "source": [
        "import urllib.request\n",
        "\n",
        "# URL to your YOLOv8 model configuration file on your GitHub branch\n",
        "config_url = \"https://raw.githubusercontent.com/Xenosians/ultralytics-FinalProject/main/ultralytics/cfg/models/v8/yolov8.yaml\"\n",
        "\n",
        "# Destination path in Colab\n",
        "config_path = \"/content/yolov8.yaml\"\n",
        "\n",
        "# Download the configuration file\n",
        "urllib.request.urlretrieve(config_url, config_path)\n"
      ],
      "metadata": {
        "id": "o18dw1WIw905"
      },
      "execution_count": null,
      "outputs": []
    },
    {
      "cell_type": "code",
      "source": [
        "!ls '/content/gdrive/My Drive/'"
      ],
      "metadata": {
        "id": "RBPWJyobrCfa"
      },
      "execution_count": null,
      "outputs": []
    },
    {
      "cell_type": "code",
      "source": [
        "DATA_DIR = '/content/gdrive/My Drive/TA_DATA'"
      ],
      "metadata": {
        "id": "gLr5-U5hsYFf"
      },
      "execution_count": null,
      "outputs": []
    },
    {
      "cell_type": "code",
      "execution_count": null,
      "metadata": {
        "id": "EH_wV1umnVNm"
      },
      "outputs": [],
      "source": [
        "!pip install ultralytics"
      ]
    },
    {
      "cell_type": "code",
      "source": [
        "import os\n",
        "\n",
        "from ultralytics import YOLO\n",
        "\n",
        "model = YOLO(\"yolov8n-cls.pt\")"
      ],
      "metadata": {
        "id": "j0ZBGQpKp7Il"
      },
      "execution_count": null,
      "outputs": []
    },
    {
      "cell_type": "code",
      "source": [
        "print(model)"
      ],
      "metadata": {
        "id": "Wd0jdvLfuWOI"
      },
      "execution_count": null,
      "outputs": []
    },
    {
      "cell_type": "code",
      "source": [
        "results = model.train(data=DATA_DIR, epochs=1, imgsz=64)"
      ],
      "metadata": {
        "id": "PUs3wxGjuVoZ"
      },
      "execution_count": null,
      "outputs": []
    },
    {
      "cell_type": "code",
      "source": [
        "!scp -r /content/runs '/content/gdrive/My Drive/TA_DATA/ImageClassifications'"
      ],
      "metadata": {
        "id": "A3PY-W3hspEu"
      },
      "execution_count": null,
      "outputs": []
    }
  ]
}