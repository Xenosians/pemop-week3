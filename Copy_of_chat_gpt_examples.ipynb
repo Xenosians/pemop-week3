{
  "nbformat": 4,
  "nbformat_minor": 0,
  "metadata": {
    "colab": {
      "private_outputs": true,
      "provenance": [],
      "include_colab_link": true
    },
    "kernelspec": {
      "name": "python3",
      "display_name": "Python 3"
    },
    "language_info": {
      "name": "python"
    }
  },
  "cells": [
    {
      "cell_type": "markdown",
      "metadata": {
        "id": "view-in-github",
        "colab_type": "text"
      },
      "source": [
        "<a href=\"https://colab.research.google.com/github/Xenosians/pemop-week3/blob/main/Copy_of_chat_gpt_examples.ipynb\" target=\"_parent\"><img src=\"https://colab.research.google.com/assets/colab-badge.svg\" alt=\"Open In Colab\"/></a>"
      ]
    },
    {
      "cell_type": "code",
      "source": [
        "!wget https://raw.githubusercontent.com/adinugrahadharmaputra/Tugas-Assesmen-ClO-1/main/Electricity%20Load%20Data.csv"
      ],
      "metadata": {
        "id": "Z5mf_63LYPdA"
      },
      "execution_count": null,
      "outputs": []
    },
    {
      "cell_type": "code",
      "execution_count": null,
      "metadata": {
        "id": "cMrzYpDP5xz5"
      },
      "outputs": [],
      "source": [
        "import numpy as np\n",
        "import pandas as pd\n",
        "from sklearn.model_selection import train_test_split\n",
        "from sklearn.linear_model import LinearRegression\n",
        "from sklearn.metrics import r2_score\n",
        "from sklearn.preprocessing import StandardScaler\n",
        "import matplotlib.pyplot as plt\n",
        "from sklearn.metrics import mean_squared_error"
      ]
    },
    {
      "cell_type": "code",
      "source": [
        "df = pd.read_csv('/content/Electricity Load Data.csv')\n",
        "df"
      ],
      "metadata": {
        "id": "L3aVuzQ_BPzt"
      },
      "execution_count": null,
      "outputs": []
    },
    {
      "cell_type": "code",
      "source": [
        "print(df.columns)"
      ],
      "metadata": {
        "id": "txgNTZu3bTcI"
      },
      "execution_count": null,
      "outputs": []
    },
    {
      "cell_type": "code",
      "source": [
        "X = df[['Temperature (C)', 'Humidity (%)', 'Precipitation (l/m^2)', 'Wind Speed (m/s)']]\n",
        "y = df['Electricity Consumption (MWh)']"
      ],
      "metadata": {
        "id": "LwLRUuyZaLpf"
      },
      "execution_count": null,
      "outputs": []
    },
    {
      "cell_type": "code",
      "source": [
        "correlations = df.corr(numeric_only=True)['Electricity Consumption (MWh)'].drop('Electricity Consumption (MWh)')\n",
        "highest_correlation_feature = correlations.idxmax()"
      ],
      "metadata": {
        "id": "oMwvEbb3ko7u"
      },
      "execution_count": null,
      "outputs": []
    },
    {
      "cell_type": "code",
      "source": [
        "X = df[highest_correlation_feature].values.reshape(-1, 1)\n",
        "y = df['Electricity Consumption (MWh)'].values"
      ],
      "metadata": {
        "id": "3XZwquo7wQTI"
      },
      "execution_count": null,
      "outputs": []
    },
    {
      "cell_type": "code",
      "source": [
        "X"
      ],
      "metadata": {
        "id": "tXTrcVpDk9gc"
      },
      "execution_count": null,
      "outputs": []
    },
    {
      "cell_type": "code",
      "source": [
        "y"
      ],
      "metadata": {
        "id": "Z2IHVmt1lGsD"
      },
      "execution_count": null,
      "outputs": []
    },
    {
      "cell_type": "code",
      "source": [
        "X_train, X_test, y_train, y_test = train_test_split(X, y, test_size=0.2, random_state=42)"
      ],
      "metadata": {
        "id": "K69Wxma6aPru"
      },
      "execution_count": null,
      "outputs": []
    },
    {
      "cell_type": "code",
      "source": [
        "scaler = StandardScaler()\n",
        "X_train_scaled = scaler.fit_transform(X_train)\n",
        "X_test_scaled = scaler.transform(X_test)"
      ],
      "metadata": {
        "id": "KAxNRmlzamSB"
      },
      "execution_count": null,
      "outputs": []
    },
    {
      "cell_type": "code",
      "source": [
        "model = LinearRegression()"
      ],
      "metadata": {
        "id": "PMDu12Fgawc0"
      },
      "execution_count": null,
      "outputs": []
    },
    {
      "cell_type": "code",
      "source": [
        "model.fit(X_train_scaled, y_train)"
      ],
      "metadata": {
        "id": "-naMbm_pbgPu"
      },
      "execution_count": null,
      "outputs": []
    },
    {
      "cell_type": "code",
      "source": [
        "y_pred = model.predict(X_test_scaled)"
      ],
      "metadata": {
        "id": "CAmyYl6ta8_H"
      },
      "execution_count": null,
      "outputs": []
    },
    {
      "cell_type": "code",
      "source": [
        "r2 = r2_score(y_test, y_pred)\n",
        "print(f'R2 Score: {r2}')"
      ],
      "metadata": {
        "id": "HUW34dala9c8"
      },
      "execution_count": null,
      "outputs": []
    },
    {
      "cell_type": "code",
      "source": [
        "plt.scatter(y_test, y_pred)\n",
        "plt.xlabel('Actual Electricity Consumption')\n",
        "plt.ylabel('Predicted Electricity Consumption')\n",
        "plt.title('Actual vs. Predicted Electricity Consumption')\n",
        "plt.show()"
      ],
      "metadata": {
        "id": "CrryHMNObHEq"
      },
      "execution_count": null,
      "outputs": []
    },
    {
      "cell_type": "code",
      "source": [
        "numeric_columns = df.select_dtypes(include=['float64', 'int64']).columns\n",
        "correlations = df[numeric_columns].corr()['Electricity Consumption (MWh)'].abs().drop('Electricity Consumption (MWh)')\n",
        "max_correlation_variable = correlations.idxmax()\n",
        "\n",
        "X_selected = df[[max_correlation_variable]]\n",
        "y_selected = df['Electricity Consumption (MWh)']"
      ],
      "metadata": {
        "id": "gCv0cAFocfTg"
      },
      "execution_count": null,
      "outputs": []
    },
    {
      "cell_type": "code",
      "source": [
        "correlations"
      ],
      "metadata": {
        "id": "qEA4wzcDoHer"
      },
      "execution_count": null,
      "outputs": []
    },
    {
      "cell_type": "code",
      "source": [
        "plt.scatter(X_selected, y_selected)\n",
        "plt.xlabel(max_correlation_variable)\n",
        "plt.ylabel('Electricity Consumption (MWh)')\n",
        "plt.title(f'Scatter Plot: {max_correlation_variable} vs. Electricity Consumption')\n",
        "plt.show()"
      ],
      "metadata": {
        "id": "on-GyNajckJ-"
      },
      "execution_count": null,
      "outputs": []
    },
    {
      "cell_type": "markdown",
      "source": [
        "##Least Square Error"
      ],
      "metadata": {
        "id": "r0RbBMO9c-F3"
      }
    },
    {
      "cell_type": "code",
      "source": [
        "X_selected = df[[max_correlation_variable]].copy()\n",
        "X_selected['bias'] = 1\n",
        "\n",
        "parameters = np.linalg.inv(X_selected.T @ X_selected) @ X_selected.T @ y_selected\n",
        "\n",
        "plt.scatter(X_selected[max_correlation_variable], y_selected, label='Actual Data')\n",
        "plt.plot(X_selected[max_correlation_variable], X_selected.values @ parameters, color='red', label='Linear Regression')\n",
        "plt.xlabel(max_correlation_variable)\n",
        "plt.ylabel('Electricity Consumption (MWh)')\n",
        "plt.title(f'Regression Line: {max_correlation_variable} vs. Electricity Consumption')\n",
        "plt.legend()\n",
        "plt.show()"
      ],
      "metadata": {
        "id": "H1_dPwNqfY1W"
      },
      "execution_count": null,
      "outputs": []
    },
    {
      "cell_type": "code",
      "source": [
        "slope = parameters[0]\n",
        "intercept = parameters[1]\n",
        "print(f'Regression Equation: Electricity Consumption = {slope:.2f} * {max_correlation_variable} + {intercept:.2f}')"
      ],
      "metadata": {
        "id": "E2TyAthnc3Ct"
      },
      "execution_count": null,
      "outputs": []
    },
    {
      "cell_type": "markdown",
      "source": [
        "##Evaluasi Model Least Square Error"
      ],
      "metadata": {
        "id": "5uTCqzNrf6me"
      }
    },
    {
      "cell_type": "code",
      "source": [
        "y_pred = model.predict(X)\n",
        "mse = mean_squared_error(y, y_pred)\n",
        "r2 = r2_score(y, y_pred)\n",
        "\n",
        "print('Mean Squared Error (MSE):', mse)\n",
        "print('R-squared (R2):', r2)"
      ],
      "metadata": {
        "id": "UIMU6P0EiUY2"
      },
      "execution_count": null,
      "outputs": []
    },
    {
      "cell_type": "markdown",
      "source": [
        "##Gradient Descent"
      ],
      "metadata": {
        "id": "R07jzQZhdq8e"
      }
    },
    {
      "cell_type": "code",
      "source": [
        "from sklearn.preprocessing import MinMaxScaler"
      ],
      "metadata": {
        "id": "qwh_pYp6c8eO"
      },
      "execution_count": null,
      "outputs": []
    },
    {
      "cell_type": "code",
      "source": [
        "scaler = MinMaxScaler()\n",
        "X_normalized = scaler.fit_transform(X_selected)"
      ],
      "metadata": {
        "id": "CDlJioFId7MP"
      },
      "execution_count": null,
      "outputs": []
    },
    {
      "cell_type": "code",
      "source": [
        "theta = np.zeros(X_normalized.shape[1])\n",
        "alpha = 0.01\n",
        "iterations = 1000"
      ],
      "metadata": {
        "id": "5Pah7aqDd_U9"
      },
      "execution_count": null,
      "outputs": []
    },
    {
      "cell_type": "code",
      "source": [
        "for _ in range(iterations):\n",
        "    gradient = (1 / len(X_normalized)) * X_normalized.T @ (X_normalized @ theta - y_selected)\n",
        "    theta = theta - alpha * gradient"
      ],
      "metadata": {
        "id": "BBTgNrkUeBX5"
      },
      "execution_count": null,
      "outputs": []
    },
    {
      "cell_type": "code",
      "source": [
        "plt.scatter(X_selected[max_correlation_variable], y_selected, label='Actual Data')\n",
        "plt.plot(X_selected[max_correlation_variable], X_normalized @ theta, color='red', label='Linear Regression')\n",
        "plt.xlabel(max_correlation_variable)\n",
        "plt.ylabel('Electricity Consumption (MWh)')\n",
        "plt.title(f'Regression Line: {max_correlation_variable} vs. Electricity Consumption (Gradient Descent)')\n",
        "plt.legend()\n",
        "plt.show()"
      ],
      "metadata": {
        "id": "mW1tm4bWeDbA"
      },
      "execution_count": null,
      "outputs": []
    },
    {
      "cell_type": "code",
      "source": [
        "print(f'Regression Equation (Gradient Descent): Electricity Consumption = {theta[0]:.2f} * {max_correlation_variable} + {theta[1]:.2f}')"
      ],
      "metadata": {
        "id": "D-yVmZd1eFEn"
      },
      "execution_count": null,
      "outputs": []
    },
    {
      "cell_type": "markdown",
      "source": [
        "##Evaluasi Model Gradient Descent"
      ],
      "metadata": {
        "id": "4Kg9LsZBeMFQ"
      }
    },
    {
      "cell_type": "code",
      "source": [
        "y_pred_gd = X_normalized @ theta"
      ],
      "metadata": {
        "id": "HFm4GXhEecFd"
      },
      "execution_count": null,
      "outputs": []
    },
    {
      "cell_type": "code",
      "source": [
        "r2_gd = r2_score(y_selected, y_pred_gd)\n",
        "print(f'R-squared (Gradient Descent): {r2_gd}')"
      ],
      "metadata": {
        "id": "mg8oyDeneerM"
      },
      "execution_count": null,
      "outputs": []
    },
    {
      "cell_type": "markdown",
      "source": [],
      "metadata": {
        "id": "kZ_zLS3hiuyB"
      }
    }
  ]
}